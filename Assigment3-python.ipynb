{
 "cells": [
  {
   "cell_type": "markdown",
   "metadata": {},
   "source": [
    "1.1 Implement myreduce function same as inbuilt reduce function"
   ]
  },
  {
   "cell_type": "code",
   "execution_count": 1,
   "metadata": {},
   "outputs": [
    {
     "name": "stdout",
     "output_type": "stream",
     "text": [
      "22\n"
     ]
    }
   ],
   "source": [
    "def myreduce(anyfunc, lst):\n",
    "\n",
    " # Get first item in lst and assign to result\n",
    "  result = lst[0]\n",
    " # iterate over remaining lst and apply reduction function \n",
    "  for i in lst[1:]:\n",
    "   result = anyfunc(result, i)\n",
    "\n",
    "  return result\n",
    "\n",
    "def add(a,b):\n",
    "    return a+b;\n",
    "\n",
    "print(myreduce(add,[10,0,12]))"
   ]
  },
  {
   "cell_type": "markdown",
   "metadata": {},
   "source": [
    "1.2 Implement myfilter function same as inbuilt filter function"
   ]
  },
  {
   "cell_type": "code",
   "execution_count": 2,
   "metadata": {},
   "outputs": [
    {
     "name": "stdout",
     "output_type": "stream",
     "text": [
      "['true', 'true', 'false']\n"
     ]
    }
   ],
   "source": [
    "def myfilter(anyfunc, lst):\n",
    "\n",
    " # Get first item in lst and assign to result\n",
    "  result = list()\n",
    " # iterate over remaining lst and apply reduction function \n",
    "  for i in lst:\n",
    "   result.append(anyfunc(i))\n",
    "\n",
    "  return result\n",
    "\n",
    "def is_even(a):\n",
    "    if(a%2==0):\n",
    "        return \"true\";\n",
    "    else:\n",
    "        return \"false\";\n",
    "print(myfilter(is_even,[10,0,21]))"
   ]
  },
  {
   "cell_type": "markdown",
   "metadata": {},
   "source": [
    "2. Implement List comprehensions to produce the following lists.\n",
    "['x', 'xx', 'xxx', 'xxxx', 'y', 'yy', 'yyy', 'yyyy', 'z', 'zz', 'zzz', 'zzzz']\n",
    "['x', 'y', 'z', 'xx', 'yy', 'zz', 'xxx', 'yyy', 'zzz', 'xxxx', 'yyyy', 'zzzz']\n",
    "[[2], [3], [4], [3], [4], [5], [4], [5], [6]]\n",
    "[[2, 3, 4, 5], [3, 4, 5, 6],[4, 5, 6, 7], [5, 6, 7, 8]]\n",
    "[(1, 1), (2, 1), (3, 1), (1, 2), (2, 2), (3, 2), (1, 3), (2, 3), (3, 3)]"
   ]
  },
  {
   "cell_type": "code",
   "execution_count": 3,
   "metadata": {},
   "outputs": [
    {
     "name": "stdout",
     "output_type": "stream",
     "text": [
      "['x', 'xx', 'xxx', 'xxxx', 'y', 'yy', 'yyy', 'yyyy', 'z', 'zz', 'zzz', 'zzzz']\n"
     ]
    }
   ],
   "source": [
    "lst=['x','y','z'];\n",
    "rst=list();\n",
    "for i in lst:\n",
    "    for j in range(1,5):\n",
    "        rst.append(i *j)\n",
    "print(rst)"
   ]
  },
  {
   "cell_type": "code",
   "execution_count": 4,
   "metadata": {},
   "outputs": [
    {
     "name": "stdout",
     "output_type": "stream",
     "text": [
      "['x', 'y', 'z', 'xx', 'yy', 'zz', 'xxx', 'yyy', 'zzz', 'xxxx', 'yyyy', 'zzzz']\n"
     ]
    }
   ],
   "source": [
    "lst=['x','y','z'];\n",
    "rst=list();\n",
    "for i in range(1,5):\n",
    "    for j in lst:\n",
    "        rst.append(j*i)\n",
    "print(rst)"
   ]
  },
  {
   "cell_type": "code",
   "execution_count": 5,
   "metadata": {},
   "outputs": [
    {
     "name": "stdout",
     "output_type": "stream",
     "text": [
      "[[2], [3], [4], [3], [4], [5], [4], [5], [6]]\n"
     ]
    }
   ],
   "source": [
    "rst=list();\n",
    "for i in range(2,5):\n",
    "    for j in range(i,i+3):\n",
    "        rst.append([j])\n",
    "print(rst)"
   ]
  },
  {
   "cell_type": "code",
   "execution_count": 6,
   "metadata": {},
   "outputs": [
    {
     "name": "stdout",
     "output_type": "stream",
     "text": [
      "[[2, 3, 4, 5], [3, 4, 5, 6], [4, 5, 6, 7], [5, 6, 7, 8]]\n"
     ]
    }
   ],
   "source": [
    "rst=list();\n",
    "for i in range(2,6):\n",
    "    l=list()\n",
    "    for j in range(i,i+4):\n",
    "        l.append(j)\n",
    "    rst.append(l)\n",
    "print(rst)"
   ]
  },
  {
   "cell_type": "code",
   "execution_count": 7,
   "metadata": {},
   "outputs": [
    {
     "name": "stdout",
     "output_type": "stream",
     "text": [
      "[(1, 1), (2, 1), (3, 1), (1, 2), (2, 2), (3, 2), (1, 3), (2, 3), (3, 3)]\n"
     ]
    }
   ],
   "source": [
    "rst=list();\n",
    "for i in range(1,4):\n",
    "    for j in range(1,4):\n",
    "        rst.append((j,i))\n",
    "print(rst)"
   ]
  }
 ],
 "metadata": {
  "kernelspec": {
   "display_name": "Python 3",
   "language": "python",
   "name": "python3"
  },
  "language_info": {
   "codemirror_mode": {
    "name": "ipython",
    "version": 3
   },
   "file_extension": ".py",
   "mimetype": "text/x-python",
   "name": "python",
   "nbconvert_exporter": "python",
   "pygments_lexer": "ipython3",
   "version": "3.7.4"
  }
 },
 "nbformat": 4,
 "nbformat_minor": 2
}
